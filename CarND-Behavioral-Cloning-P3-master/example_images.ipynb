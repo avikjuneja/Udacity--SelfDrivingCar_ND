{
 "cells": [
  {
   "cell_type": "code",
   "execution_count": 12,
   "metadata": {},
   "outputs": [
    {
     "data": {
      "text/plain": [
       "True"
      ]
     },
     "execution_count": 12,
     "metadata": {},
     "output_type": "execute_result"
    }
   ],
   "source": [
    "import cv2\n",
    "import re\n",
    "import numpy as np\n",
    "import matplotlib.pyplot as plt\n",
    "\n",
    "image = cv2.imread('examples/center_lap.jpg')\n",
    "#image = cv2.cvtColor(image, cv2.COLOR_BGR2RGB)    ## convert to RGB to match inferencing data\n",
    "\n",
    "image_flipped = image.copy()\n",
    "image_flipped = cv2.flip(image,1)\n",
    "cv2.imwrite('examples/center_flipped.jpg',image_flipped)\n",
    "\n",
    "image_cropped = image[50:140, 0:320]\n",
    "cv2.imwrite(\"examples/center_cropped.jpg\", image_cropped)\n",
    "\n",
    "\n",
    "\n"
   ]
  },
  {
   "cell_type": "code",
   "execution_count": null,
   "metadata": {},
   "outputs": [],
   "source": []
  }
 ],
 "metadata": {
  "kernelspec": {
   "display_name": "Python 3",
   "language": "python",
   "name": "python3"
  },
  "language_info": {
   "codemirror_mode": {
    "name": "ipython",
    "version": 3
   },
   "file_extension": ".py",
   "mimetype": "text/x-python",
   "name": "python",
   "nbconvert_exporter": "python",
   "pygments_lexer": "ipython3",
   "version": "3.5.2"
  },
  "widgets": {
   "state": {},
   "version": "1.1.2"
  }
 },
 "nbformat": 4,
 "nbformat_minor": 2
}

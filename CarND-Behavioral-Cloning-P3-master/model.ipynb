{
 "cells": [
  {
   "cell_type": "code",
   "execution_count": 1,
   "metadata": {
    "collapsed": true
   },
   "outputs": [],
   "source": [
    "import os\n",
    "import csv\n",
    "import cv2\n",
    "import re\n",
    "import numpy as np\n",
    "import matplotlib.pyplot as plt\n",
    "from random import shuffle\n",
    "import sklearn\n",
    "\n",
    "%matplotlib inline\n",
    "\n",
    "samples = []\n",
    "\n",
    "def read_dataset(directory):\n",
    "    with open(directory+'driving_log.csv') as csvfile:\n",
    "        reader = csv.reader(csvfile)\n",
    "        for line in reader: \n",
    "            for angle in range(3):\n",
    "                path = line[angle]\n",
    "                filename = path.split('/')[-1]\n",
    "                filename = filename.split('\\\\')[-1]\n",
    "                path = directory+'IMG/'+filename\n",
    "                line[angle] = path\n",
    "            samples.append(line)\n"
   ]
  },
  {
   "cell_type": "code",
   "execution_count": 2,
   "metadata": {
    "collapsed": true
   },
   "outputs": [],
   "source": [
    "def generator(samples, batch_size=32):\n",
    "    num_samples = len(samples)\n",
    "    while 1: # Loop forever so the generator never terminates\n",
    "        shuffle(samples)\n",
    "        \n",
    "        for offset in range(0, num_samples, batch_size):\n",
    "            batch_samples = samples[offset:offset+batch_size]\n",
    "            \n",
    "            images = []\n",
    "            measurements = []\n",
    "            \n",
    "            for batch_sample in batch_samples:\n",
    "                if(batch_sample[3] == 'steering'):\n",
    "                    continue\n",
    "                \n",
    "                steering = float(batch_sample[3])\n",
    "                correction = 0.1 # this is a parameter to tune\n",
    "                \n",
    "                for angle in range(3):\n",
    "                    \n",
    "                    path = batch_sample[angle]\n",
    "\n",
    "                    image = cv2.imread(path)\n",
    "                    image = cv2.cvtColor(image, cv2.COLOR_BGR2RGB)\n",
    "\n",
    "                    images.append(image)\n",
    "\n",
    "                # create adjusted steering measurements for the side camera images\n",
    "                    if(angle == 1):\n",
    "                        steering += correction\n",
    "                    elif (angle == 2):\n",
    "                        steering -= correction\n",
    "\n",
    "                    measurements.append(steering)\n",
    "\n",
    "                    image_flipped = image.copy()\n",
    "                    image_flipped = cv2.flip(image,1)\n",
    "                    measurement_flipped = -steering\n",
    "                    images.append(image_flipped)\n",
    "                    measurements.append(measurement_flipped)                \n",
    "\n",
    "\n",
    "            # trim image to only see section with road\n",
    "            X_train = np.array(images)\n",
    "            y_train = np.array(measurements)\n",
    "#             print('X_train: ',len(X_train))\n",
    "#             print('Y_train: ',len(y_train))\n",
    "            \n",
    "            yield sklearn.utils.shuffle(X_train, y_train)"
   ]
  },
  {
   "cell_type": "code",
   "execution_count": 3,
   "metadata": {
    "collapsed": true
   },
   "outputs": [],
   "source": [
    "# X_train = np.array(images)\n",
    "# y_train = np.array(measurements)\n",
    "\n",
    "read_dataset('data_custom_3/')\n",
    "shuffle(samples)\n",
    "from sklearn.model_selection import train_test_split\n",
    "train_samples, validation_samples = train_test_split(samples, test_size=0.2)\n",
    "# print(len(train_samples))\n",
    "# print(len(validation_samples))\n",
    "\n",
    "# compile and train the model using the generator function\n",
    "train_generator = generator(train_samples, batch_size=128)\n",
    "validation_generator = generator(validation_samples, batch_size=128)\n",
    "\n",
    "# print (len(train_generator), len(validation_generator))\n",
    "# print(train_generator.shape, validation_generator.shape)"
   ]
  },
  {
   "cell_type": "code",
   "execution_count": 4,
   "metadata": {},
   "outputs": [
    {
     "name": "stderr",
     "output_type": "stream",
     "text": [
      "Using TensorFlow backend.\n"
     ]
    },
    {
     "name": "stdout",
     "output_type": "stream",
     "text": [
      "Epoch 1/3\n",
      "20736/21338 [============================>.] - ETA: 1s - loss: 0.0459"
     ]
    },
    {
     "name": "stderr",
     "output_type": "stream",
     "text": [
      "/home/carnd/anaconda3/envs/carnd-term1/lib/python3.5/site-packages/keras/engine/training.py:1569: UserWarning: Epoch comprised more than `samples_per_epoch` samples, which might affect learning results. Set `samples_per_epoch` correctly to avoid this warning.\n",
      "  warnings.warn('Epoch comprised more than '\n"
     ]
    },
    {
     "name": "stdout",
     "output_type": "stream",
     "text": [
      "21504/21338 [==============================] - 67s - loss: 0.0459 - val_loss: 0.0423\n",
      "Epoch 2/3\n",
      "21504/21338 [==============================] - 59s - loss: 0.0404 - val_loss: 0.0390\n",
      "Epoch 3/3\n",
      "21504/21338 [==============================] - 60s - loss: 0.0336 - val_loss: 0.0348\n"
     ]
    }
   ],
   "source": [
    "from keras.models import Model, Sequential\n",
    "from keras.layers import Input, Flatten, Dense, Activation, Lambda, Dropout, Cropping2D\n",
    "from keras.layers.convolutional import Convolution2D\n",
    "from keras.layers.pooling import MaxPooling2D\n",
    "\n",
    "\n",
    "model = Sequential()\n",
    "model.add(Lambda(lambda x: x/255.0 - 0.5, input_shape=(160,320,3)))\n",
    "model.add(Cropping2D(cropping=((50,20),(0,0))))\n",
    "model.add(Convolution2D(24,5,5,subsample=(2,2),activation='relu'))\n",
    "model.add(Convolution2D(36,5,5,subsample=(2,2),activation='relu'))\n",
    "model.add(Convolution2D(48,5,5,subsample=(2,2),activation='relu'))\n",
    "model.add(Convolution2D(64,3,3,activation='relu'))\n",
    "model.add(Convolution2D(64,3,3,activation='relu'))\n",
    "model.add(Flatten())\n",
    "model.add(Dense(100))\n",
    "model.add(Dense(50))\n",
    "model.add(Dense(10))\n",
    "model.add(Dense(1))\n",
    "\n",
    "model.compile(loss='mse', optimizer='adam')\n",
    "model.fit_generator(train_generator, samples_per_epoch = len(train_samples), validation_data=validation_generator, nb_val_samples=len(validation_samples), nb_epoch=3)\n",
    "\n",
    "model.save('model.h5')\n"
   ]
  }
 ],
 "metadata": {
  "kernelspec": {
   "display_name": "Python 3",
   "language": "python",
   "name": "python3"
  },
  "language_info": {
   "codemirror_mode": {
    "name": "ipython",
    "version": 3
   },
   "file_extension": ".py",
   "mimetype": "text/x-python",
   "name": "python",
   "nbconvert_exporter": "python",
   "pygments_lexer": "ipython3",
   "version": "3.5.2"
  },
  "widgets": {
   "state": {},
   "version": "1.1.2"
  }
 },
 "nbformat": 4,
 "nbformat_minor": 2
}
